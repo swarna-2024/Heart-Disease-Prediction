{
 "cells": [
  {
   "cell_type": "code",
   "execution_count": null,
   "metadata": {
    "colab": {
     "base_uri": "https://localhost:8080/"
    },
    "id": "v3ZABgFyLDND",
    "outputId": "722044a6-66a0-44d3-fd60-a93c5329a5a3"
   },
   "outputs": [
    {
     "name": "stdout",
     "output_type": "stream",
     "text": [
      "Requirement already satisfied: transformers in /usr/local/lib/python3.11/dist-packages (4.50.0)\n",
      "Requirement already satisfied: filelock in /usr/local/lib/python3.11/dist-packages (from transformers) (3.18.0)\n",
      "Requirement already satisfied: huggingface-hub<1.0,>=0.26.0 in /usr/local/lib/python3.11/dist-packages (from transformers) (0.29.3)\n",
      "Requirement already satisfied: numpy>=1.17 in /usr/local/lib/python3.11/dist-packages (from transformers) (2.0.2)\n",
      "Requirement already satisfied: packaging>=20.0 in /usr/local/lib/python3.11/dist-packages (from transformers) (24.2)\n",
      "Requirement already satisfied: pyyaml>=5.1 in /usr/local/lib/python3.11/dist-packages (from transformers) (6.0.2)\n",
      "Requirement already satisfied: regex!=2019.12.17 in /usr/local/lib/python3.11/dist-packages (from transformers) (2024.11.6)\n",
      "Requirement already satisfied: requests in /usr/local/lib/python3.11/dist-packages (from transformers) (2.32.3)\n",
      "Requirement already satisfied: tokenizers<0.22,>=0.21 in /usr/local/lib/python3.11/dist-packages (from transformers) (0.21.1)\n",
      "Requirement already satisfied: safetensors>=0.4.3 in /usr/local/lib/python3.11/dist-packages (from transformers) (0.5.3)\n",
      "Requirement already satisfied: tqdm>=4.27 in /usr/local/lib/python3.11/dist-packages (from transformers) (4.67.1)\n",
      "Requirement already satisfied: fsspec>=2023.5.0 in /usr/local/lib/python3.11/dist-packages (from huggingface-hub<1.0,>=0.26.0->transformers) (2025.3.0)\n",
      "Requirement already satisfied: typing-extensions>=3.7.4.3 in /usr/local/lib/python3.11/dist-packages (from huggingface-hub<1.0,>=0.26.0->transformers) (4.12.2)\n",
      "Requirement already satisfied: charset-normalizer<4,>=2 in /usr/local/lib/python3.11/dist-packages (from requests->transformers) (3.4.1)\n",
      "Requirement already satisfied: idna<4,>=2.5 in /usr/local/lib/python3.11/dist-packages (from requests->transformers) (3.10)\n",
      "Requirement already satisfied: urllib3<3,>=1.21.1 in /usr/local/lib/python3.11/dist-packages (from requests->transformers) (2.3.0)\n",
      "Requirement already satisfied: certifi>=2017.4.17 in /usr/local/lib/python3.11/dist-packages (from requests->transformers) (2025.1.31)\n"
     ]
    }
   ],
   "source": [
    "pip install transformers\n",
    "\n",
    "# allow to download, manipulate and run pre trained open source ai models"
   ]
  },
  {
   "cell_type": "code",
   "execution_count": null,
   "metadata": {
    "id": "H6mwl844MRpw"
   },
   "outputs": [],
   "source": [
    "from transformers import pipeline\n",
    "\n",
    "# pipelines describes the flow of data from original to destination system"
   ]
  },
  {
   "cell_type": "code",
   "execution_count": null,
   "metadata": {
    "colab": {
     "base_uri": "https://localhost:8080/"
    },
    "id": "q-zo9x5YMq1h",
    "outputId": "d14f2e1b-014e-4c0b-85fb-9f9b5f054107"
   },
   "outputs": [
    {
     "name": "stdout",
     "output_type": "stream",
     "text": [
      "4.50.0\n"
     ]
    }
   ],
   "source": [
    "import transformers\n",
    "print(transformers.__version__)"
   ]
  },
  {
   "cell_type": "code",
   "execution_count": null,
   "metadata": {
    "id": "IhKze_OvM83w"
   },
   "outputs": [],
   "source": [
    "import librosa\n",
    "\n",
    "# librosa is a python library for audio and music processing\n",
    "# it can be used to extract features from audio files\n",
    "# can be used to convert audio files in various wave formats like mp3, mp4, wav,etc\n",
    "# can also be used to convert audio files to text\n",
    "\n",
    "\n",
    "import torch\n",
    "\n",
    "# torch is a python library for machine learning and deep learning\n",
    "# it can be used to create neural networks\n",
    "# it can be used to create deep learning models\n",
    "# can be used for Computer Vision and Natural Language Processing\n",
    "\n",
    "\n",
    "import IPython.display as display\n",
    "\n",
    "# IPython.display is a python library for displaying data\n",
    "# It can be used to display images, videos, audio, and text\n",
    "\n",
    "\n",
    "from transformers import Wav2Vec2ForCTC, Wav2Vec2Tokenizer\n",
    "\n",
    "# Wave2Vec2ForCTC is a pytorch model for speech recognition\n",
    "# Wave2Vec2Tokenizer is a pytorch tokenizer for speech recognition\n",
    "# can be used to convert audio files to text(vice versa)\n",
    "\n",
    "\n",
    "import numpy as np\n",
    "\n",
    "# numpy is a python library for numerical computing\n",
    "# it can be used to create arrays and matrices\n",
    "# it can be used to perform mathematical operations on arrays and matrices\n",
    "\n"
   ]
  },
  {
   "cell_type": "code",
   "execution_count": null,
   "metadata": {
    "colab": {
     "base_uri": "https://localhost:8080/",
     "height": 322,
     "referenced_widgets": [
      "b7534f47de3046009fee68cea6daebcb",
      "15ac51530737489ba0d8e55da04c4d4b",
      "04cc5d9390384b2da994e9820e1a2c70",
      "f0119ba99e914dfbaf6fb35b77fb1920",
      "9109c4ee4ea2444d8ed733456fe9f8c1",
      "7327ef65a3c14edfb6ffec336acaf297",
      "4f428cc54b7e40578848f60cbe3b5b75",
      "58df6bacd959423da18f5dd66d245a39",
      "aa5e9a9b23e440af883e15e23f6361a7",
      "803fcc0af88b40bcaf8fa9c89767617c",
      "40955f41db5f438fab19948899a67701",
      "80e6ce0546194a5b8a55a25d2d773bd2",
      "94572b22a2714475bf4e053b4cdadf60",
      "0b51f6bc26844f929535158ec323fb57",
      "912bc476f46746af9ca43c32d30ae111",
      "26a7d3afa0fb44e58fb00e447af47d24",
      "c4207622a5604dc78269cfbad0214c54",
      "334f7f21d9cf4c8e80f2a29cc3a7148c",
      "58bec3569a1b48dd99334ebf62a20909",
      "f22d624d37684343ab8dcda319f76940",
      "bd81fdd38b3e4e69917a39a94e019e42",
      "2111b65e928a430786e08f3de33915a6",
      "9ab682609fef41ae8ffec799f920579f",
      "a2ed27ca52954ea4b19a9da2a55f0a6f",
      "006af32c67cf41588b569227daf1af51",
      "dbb44d0bba1a4aaa8a479070fa8464a5",
      "22bebe07a7434cfcafc3cb482e1ab2ad",
      "892d7a5f69f54ebe8754b405401c6b55",
      "7babb06f85ae4105bb6e473add9145e8",
      "fb112eae63a346a08c3c22c50ed1d282",
      "8d9e5b0de08e4384923144996c4da489",
      "23ee3e1998004d8dba048a73429d3093",
      "9dce5cbcfce444198656ab33c2441637",
      "2de31979b18948e7bee475c2821a4946",
      "9b57ba3ecbdb4a5d90d271878ec6e892",
      "11fc6e610df24ff0bb9d839601c415bf",
      "27eb07c6bede48529d447c7ad58a36ca",
      "a45e35ffeac54dc0ad374698b27135ba",
      "4164d72b8cc34c14851c4ad2df4c5fdf",
      "0171c7f253db493d907258845b668ff2",
      "9ba8a0e4f6424f3eabd89d83f068b312",
      "6c63eb5940ed45edacb9e3ca9b43864d",
      "3434e58a841c4498a108b6640cede0e5",
      "377da267678d4a9eb8d18539ca70d2e2",
      "e6f608b029fa4405aab25c93d888d90e",
      "fe40e9ba5de242999ce9caf76906ae31",
      "ec32ed16be7c441b933feaf54a5fbbfd",
      "1b5707a0a2ef485086badc9c360c1790",
      "8e482da8940e472686c44ebcaf261a94",
      "9ca397d9ac9849aabc0972d16083be29",
      "16b9ae95f1de42d4a2447fc3eb8b5bf6",
      "8f0550523d564924a2e156c28f19fde5",
      "387262c9d8554fd5adb7833f9d0e6281",
      "7fbceecab6a84d5486ba79b9e854cc06",
      "140ed60445594d958c44a6b0d9f004e7"
     ]
    },
    "id": "krWujDjoNKye",
    "outputId": "4ea23e12-e1f1-43f2-f20e-12767b55ef37"
   },
   "outputs": [
    {
     "data": {
      "application/vnd.jupyter.widget-view+json": {
       "model_id": "b7534f47de3046009fee68cea6daebcb",
       "version_major": 2,
       "version_minor": 0
      },
      "text/plain": [
       "tokenizer_config.json:   0%|          | 0.00/163 [00:00<?, ?B/s]"
      ]
     },
     "metadata": {},
     "output_type": "display_data"
    },
    {
     "data": {
      "application/vnd.jupyter.widget-view+json": {
       "model_id": "80e6ce0546194a5b8a55a25d2d773bd2",
       "version_major": 2,
       "version_minor": 0
      },
      "text/plain": [
       "vocab.json:   0%|          | 0.00/291 [00:00<?, ?B/s]"
      ]
     },
     "metadata": {},
     "output_type": "display_data"
    },
    {
     "data": {
      "application/vnd.jupyter.widget-view+json": {
       "model_id": "9ab682609fef41ae8ffec799f920579f",
       "version_major": 2,
       "version_minor": 0
      },
      "text/plain": [
       "special_tokens_map.json:   0%|          | 0.00/85.0 [00:00<?, ?B/s]"
      ]
     },
     "metadata": {},
     "output_type": "display_data"
    },
    {
     "data": {
      "application/vnd.jupyter.widget-view+json": {
       "model_id": "2de31979b18948e7bee475c2821a4946",
       "version_major": 2,
       "version_minor": 0
      },
      "text/plain": [
       "config.json:   0%|          | 0.00/1.60k [00:00<?, ?B/s]"
      ]
     },
     "metadata": {},
     "output_type": "display_data"
    },
    {
     "name": "stderr",
     "output_type": "stream",
     "text": [
      "The tokenizer class you load from this checkpoint is not the same type as the class this function is called from. It may result in unexpected tokenization. \n",
      "The tokenizer class you load from this checkpoint is 'Wav2Vec2CTCTokenizer'. \n",
      "The class this function is called from is 'Wav2Vec2Tokenizer'.\n",
      "/usr/local/lib/python3.11/dist-packages/transformers/models/wav2vec2/tokenization_wav2vec2.py:720: FutureWarning: The class `Wav2Vec2Tokenizer` is deprecated and will be removed in version 5 of Transformers. Please use `Wav2Vec2Processor` or `Wav2Vec2CTCTokenizer` instead.\n",
      "  warnings.warn(\n"
     ]
    },
    {
     "data": {
      "application/vnd.jupyter.widget-view+json": {
       "model_id": "e6f608b029fa4405aab25c93d888d90e",
       "version_major": 2,
       "version_minor": 0
      },
      "text/plain": [
       "model.safetensors:   0%|          | 0.00/378M [00:00<?, ?B/s]"
      ]
     },
     "metadata": {},
     "output_type": "display_data"
    },
    {
     "name": "stderr",
     "output_type": "stream",
     "text": [
      "Some weights of Wav2Vec2ForCTC were not initialized from the model checkpoint at facebook/wav2vec2-base-960h and are newly initialized: ['wav2vec2.masked_spec_embed']\n",
      "You should probably TRAIN this model on a down-stream task to be able to use it for predictions and inference.\n"
     ]
    }
   ],
   "source": [
    "tokenizer = Wav2Vec2Tokenizer.from_pretrained(\"facebook/wav2vec2-base-960h\")\n",
    "model = Wav2Vec2ForCTC.from_pretrained(\"facebook/wav2vec2-base-960h\")\n",
    "\n",
    "\n",
    "# tokenizer is a pytorch tokenizer for speech recognition\n",
    "# model is a pytorch model for speech recognition\n",
    "# facebook/wav2vec2-base-960h is a pre trained model for speech recognition\n",
    "# facebook/wav2vec2-base-960h contains 960 hours of speech data\n",
    "# That data is used to train the model"
   ]
  },
  {
   "cell_type": "code",
   "execution_count": null,
   "metadata": {
    "colab": {
     "base_uri": "https://localhost:8080/"
    },
    "id": "wyfV-qNNUc_Z",
    "outputId": "4bb734d3-a8c1-4203-eccf-3deeb85eaf85"
   },
   "outputs": [
    {
     "name": "stdout",
     "output_type": "stream",
     "text": [
      "Drive already mounted at /content/drive; to attempt to forcibly remount, call drive.mount(\"/content/drive\", force_remount=True).\n"
     ]
    }
   ],
   "source": [
    "from google.colab import drive\n",
    "drive.mount('/content/drive')"
   ]
  },
  {
   "cell_type": "code",
   "execution_count": null,
   "metadata": {
    "colab": {
     "base_uri": "https://localhost:8080/"
    },
    "id": "f8xKs6VSUlnQ",
    "outputId": "01c87f78-6c73-434f-f216-bc669edbc142"
   },
   "outputs": [
    {
     "name": "stderr",
     "output_type": "stream",
     "text": [
      "<ipython-input-53-a9a66e044b5c>:1: UserWarning: PySoundFile failed. Trying audioread instead.\n",
      "  audio, sampling_rate = librosa.load(\"/sample.m4a\", sr=16000)\n",
      "/usr/local/lib/python3.11/dist-packages/librosa/core/audio.py:184: FutureWarning: librosa.core.audio.__audioread_load\n",
      "\tDeprecated as of librosa version 0.10.0.\n",
      "\tIt will be removed in librosa version 1.0.\n",
      "  y, sr_native = __audioread_load(path, offset, duration, dtype)\n"
     ]
    }
   ],
   "source": [
    "audio, sampling_rate = librosa.load(\"/sample.m4a\", sr=16000)"
   ]
  },
  {
   "cell_type": "code",
   "execution_count": null,
   "metadata": {
    "colab": {
     "base_uri": "https://localhost:8080/"
    },
    "id": "Q_4A2MgDU50K",
    "outputId": "fb0036e4-5794-489b-bfe0-848dc4c47575"
   },
   "outputs": [
    {
     "data": {
      "text/plain": [
       "(array([ 7.9213459e-12, -2.9572408e-12,  7.8403091e-12, ...,\n",
       "         5.3859781e-04,  3.5790575e-04,  5.8474474e-05], dtype=float32),\n",
       " 16000)"
      ]
     },
     "execution_count": 54,
     "metadata": {},
     "output_type": "execute_result"
    }
   ],
   "source": [
    "audio, sampling_rate\n"
   ]
  },
  {
   "cell_type": "code",
   "execution_count": null,
   "metadata": {
    "colab": {
     "base_uri": "https://localhost:8080/",
     "height": 75
    },
    "id": "iN4ETOPSVHLr",
    "outputId": "869c415b-0245-43f0-ec5f-45297ce77e1f"
   },
   "outputs": [
    {
     "data": {
      "text/html": [
       "\n",
       "                <audio  controls=\"controls\" autoplay=\"autoplay\">\n",
       "                    <source src=\"data:audio/mp4;base64,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\" type=\"audio/mp4\" />\n",
       "                    Your browser does not support the audio element.\n",
       "                </audio>\n",
       "              "
      ],
      "text/plain": [
       "<IPython.lib.display.Audio object>"
      ]
     },
     "execution_count": 55,
     "metadata": {},
     "output_type": "execute_result"
    }
   ],
   "source": [
    "display.Audio(\"/sample.m4a\", autoplay=True)"
   ]
  },
  {
   "cell_type": "code",
   "execution_count": null,
   "metadata": {
    "colab": {
     "base_uri": "https://localhost:8080/"
    },
    "id": "c3A_XCOyVVGu",
    "outputId": "fee41952-ca54-4954-d035-3f1e2b9c60ca"
   },
   "outputs": [
    {
     "data": {
      "text/plain": [
       "tensor([[-2.7248e-05, -2.7248e-05, -2.7248e-05,  ...,  1.2877e-02,\n",
       "          8.5477e-03,  1.3737e-03]])"
      ]
     },
     "execution_count": 58,
     "metadata": {},
     "output_type": "execute_result"
    }
   ],
   "source": [
    "input_values = tokenizer(audio, return_tensors=\"pt\").input_values\n",
    "input_values\n",
    "\n",
    "# input values is a pytorch tensor for speech recognition\n",
    "# tokenizer(audio, return_tensors=\"pt\") is a pytorch tokenizer for speech"
   ]
  },
  {
   "cell_type": "code",
   "execution_count": null,
   "metadata": {
    "colab": {
     "base_uri": "https://localhost:8080/"
    },
    "id": "FhcBQQg0WLGi",
    "outputId": "0cf1a08f-15d5-4035-f464-f39851c63474"
   },
   "outputs": [
    {
     "data": {
      "text/plain": [
       "tensor([[[ 15.7895, -29.2077, -28.8371,  ...,  -7.4608,  -7.2103,  -9.3642],\n",
       "         [ 16.2068, -29.5891, -29.2117,  ...,  -7.7310,  -7.5722,  -9.5448],\n",
       "         [ 16.3595, -29.6562, -29.2744,  ...,  -7.7375,  -7.5627,  -9.5909],\n",
       "         ...,\n",
       "         [ 15.9139, -29.2852, -28.9225,  ...,  -7.6946,  -7.4231,  -9.7475],\n",
       "         [ 15.9232, -29.4214, -29.0719,  ...,  -7.7345,  -7.5689,  -9.6626],\n",
       "         [ 16.0360, -29.5031, -29.1586,  ...,  -7.8674,  -7.8741,  -9.6048]]],\n",
       "       grad_fn=<ViewBackward0>)"
      ]
     },
     "execution_count": 59,
     "metadata": {},
     "output_type": "execute_result"
    }
   ],
   "source": [
    "logits = model(input_values).logits\n",
    "logits\n",
    "\n",
    "# logits in tensor consists of speech data\n",
    "# model(input_values).logits is a pytorch model for speech recognition"
   ]
  },
  {
   "cell_type": "code",
   "execution_count": null,
   "metadata": {
    "id": "GVUuvJ_SWiwR"
   },
   "outputs": [],
   "source": [
    "predicted_ids = torch.argmax(logits, dim=-1)\n",
    "#predicted_ids\n",
    "\n",
    "# torch.argmax(logits, dim=-1) means that we are taking the maximum value of the logits which is the predicted value of the speech data which says about the speech\n"
   ]
  },
  {
   "cell_type": "code",
   "execution_count": null,
   "metadata": {
    "id": "3SRN-cf7W_W4"
   },
   "outputs": [],
   "source": [
    "transcriptions = tokenizer.decode(predicted_ids[0])\n",
    "\n",
    "\n",
    "# tokenizer.decode(predicted_ids[0]) means that we are decoding the predicted value of the speech data which was generated by the model using the tokenizer"
   ]
  },
  {
   "cell_type": "code",
   "execution_count": null,
   "metadata": {
    "colab": {
     "base_uri": "https://localhost:8080/",
     "height": 53
    },
    "id": "uI7-mjSDXVXh",
    "outputId": "c4ebbcb7-4a7d-4eb8-8d41-426cb7538de3"
   },
   "outputs": [
    {
     "data": {
      "application/vnd.google.colaboratory.intrinsic+json": {
       "type": "string"
      },
      "text/plain": [
       "'HI NICE TO MEET YOU MY NAME IS BARGISHE SWARMA HOW ARE YOU DOING I HAD A GREAT TIME TO DAY'"
      ]
     },
     "execution_count": 62,
     "metadata": {},
     "output_type": "execute_result"
    }
   ],
   "source": [
    "transcriptions"
   ]
  },
  {
   "cell_type": "code",
   "execution_count": null,
   "metadata": {
    "id": "Df_Mq0JuXZ_y"
   },
   "outputs": [],
   "source": []
  }
 ],
 "metadata": {
  "colab": {
   "provenance": []
  },
  "kernelspec": {
   "display_name": "Python 3 (ipykernel)",
   "language": "python",
   "name": "python3"
  },
  "language_info": {
   "codemirror_mode": {
    "name": "ipython",
    "version": 3
   },
   "file_extension": ".py",
   "mimetype": "text/x-python",
   "name": "python",
   "nbconvert_exporter": "python",
   "pygments_lexer": "ipython3",
   "version": "3.9.13"
  },
  "widgets": {
   "application/vnd.jupyter.widget-state+json": {
    "006af32c67cf41588b569227daf1af51": {
     "model_module": "@jupyter-widgets/controls",
     "model_module_version": "1.5.0",
     "model_name": "FloatProgressModel",
     "state": {
      "_dom_classes": [],
      "_model_module": "@jupyter-widgets/controls",
      "_model_module_version": "1.5.0",
      "_model_name": "FloatProgressModel",
      "_view_count": null,
      "_view_module": "@jupyter-widgets/controls",
      "_view_module_version": "1.5.0",
      "_view_name": "ProgressView",
      "bar_style": "success",
      "description": "",
      "description_tooltip": null,
      "layout": "IPY_MODEL_fb112eae63a346a08c3c22c50ed1d282",
      "max": 85,
      "min": 0,
      "orientation": "horizontal",
      "style": "IPY_MODEL_8d9e5b0de08e4384923144996c4da489",
      "value": 85
     }
    },
    "0171c7f253db493d907258845b668ff2": {
     "model_module": "@jupyter-widgets/controls",
     "model_module_version": "1.5.0",
     "model_name": "DescriptionStyleModel",
     "state": {
      "_model_module": "@jupyter-widgets/controls",
      "_model_module_version": "1.5.0",
      "_model_name": "DescriptionStyleModel",
      "_view_count": null,
      "_view_module": "@jupyter-widgets/base",
      "_view_module_version": "1.2.0",
      "_view_name": "StyleView",
      "description_width": ""
     }
    },
    "04cc5d9390384b2da994e9820e1a2c70": {
     "model_module": "@jupyter-widgets/controls",
     "model_module_version": "1.5.0",
     "model_name": "FloatProgressModel",
     "state": {
      "_dom_classes": [],
      "_model_module": "@jupyter-widgets/controls",
      "_model_module_version": "1.5.0",
      "_model_name": "FloatProgressModel",
      "_view_count": null,
      "_view_module": "@jupyter-widgets/controls",
      "_view_module_version": "1.5.0",
      "_view_name": "ProgressView",
      "bar_style": "success",
      "description": "",
      "description_tooltip": null,
      "layout": "IPY_MODEL_58df6bacd959423da18f5dd66d245a39",
      "max": 163,
      "min": 0,
      "orientation": "horizontal",
      "style": "IPY_MODEL_aa5e9a9b23e440af883e15e23f6361a7",
      "value": 163
     }
    },
    "0b51f6bc26844f929535158ec323fb57": {
     "model_module": "@jupyter-widgets/controls",
     "model_module_version": "1.5.0",
     "model_name": "FloatProgressModel",
     "state": {
      "_dom_classes": [],
      "_model_module": "@jupyter-widgets/controls",
      "_model_module_version": "1.5.0",
      "_model_name": "FloatProgressModel",
      "_view_count": null,
      "_view_module": "@jupyter-widgets/controls",
      "_view_module_version": "1.5.0",
      "_view_name": "ProgressView",
      "bar_style": "success",
      "description": "",
      "description_tooltip": null,
      "layout": "IPY_MODEL_58bec3569a1b48dd99334ebf62a20909",
      "max": 291,
      "min": 0,
      "orientation": "horizontal",
      "style": "IPY_MODEL_f22d624d37684343ab8dcda319f76940",
      "value": 291
     }
    },
    "11fc6e610df24ff0bb9d839601c415bf": {
     "model_module": "@jupyter-widgets/controls",
     "model_module_version": "1.5.0",
     "model_name": "FloatProgressModel",
     "state": {
      "_dom_classes": [],
      "_model_module": "@jupyter-widgets/controls",
      "_model_module_version": "1.5.0",
      "_model_name": "FloatProgressModel",
      "_view_count": null,
      "_view_module": "@jupyter-widgets/controls",
      "_view_module_version": "1.5.0",
      "_view_name": "ProgressView",
      "bar_style": "success",
      "description": "",
      "description_tooltip": null,
      "layout": "IPY_MODEL_9ba8a0e4f6424f3eabd89d83f068b312",
      "max": 1596,
      "min": 0,
      "orientation": "horizontal",
      "style": "IPY_MODEL_6c63eb5940ed45edacb9e3ca9b43864d",
      "value": 1596
     }
    },
    "140ed60445594d958c44a6b0d9f004e7": {
     "model_module": "@jupyter-widgets/controls",
     "model_module_version": "1.5.0",
     "model_name": "DescriptionStyleModel",
     "state": {
      "_model_module": "@jupyter-widgets/controls",
      "_model_module_version": "1.5.0",
      "_model_name": "DescriptionStyleModel",
      "_view_count": null,
      "_view_module": "@jupyter-widgets/base",
      "_view_module_version": "1.2.0",
      "_view_name": "StyleView",
      "description_width": ""
     }
    },
    "15ac51530737489ba0d8e55da04c4d4b": {
     "model_module": "@jupyter-widgets/controls",
     "model_module_version": "1.5.0",
     "model_name": "HTMLModel",
     "state": {
      "_dom_classes": [],
      "_model_module": "@jupyter-widgets/controls",
      "_model_module_version": "1.5.0",
      "_model_name": "HTMLModel",
      "_view_count": null,
      "_view_module": "@jupyter-widgets/controls",
      "_view_module_version": "1.5.0",
      "_view_name": "HTMLView",
      "description": "",
      "description_tooltip": null,
      "layout": "IPY_MODEL_7327ef65a3c14edfb6ffec336acaf297",
      "placeholder": "​",
      "style": "IPY_MODEL_4f428cc54b7e40578848f60cbe3b5b75",
      "value": "tokenizer_config.json: 100%"
     }
    },
    "16b9ae95f1de42d4a2447fc3eb8b5bf6": {
     "model_module": "@jupyter-widgets/controls",
     "model_module_version": "1.5.0",
     "model_name": "DescriptionStyleModel",
     "state": {
      "_model_module": "@jupyter-widgets/controls",
      "_model_module_version": "1.5.0",
      "_model_name": "DescriptionStyleModel",
      "_view_count": null,
      "_view_module": "@jupyter-widgets/base",
      "_view_module_version": "1.2.0",
      "_view_name": "StyleView",
      "description_width": ""
     }
    },
    "1b5707a0a2ef485086badc9c360c1790": {
     "model_module": "@jupyter-widgets/controls",
     "model_module_version": "1.5.0",
     "model_name": "HTMLModel",
     "state": {
      "_dom_classes": [],
      "_model_module": "@jupyter-widgets/controls",
      "_model_module_version": "1.5.0",
      "_model_name": "HTMLModel",
      "_view_count": null,
      "_view_module": "@jupyter-widgets/controls",
      "_view_module_version": "1.5.0",
      "_view_name": "HTMLView",
      "description": "",
      "description_tooltip": null,
      "layout": "IPY_MODEL_7fbceecab6a84d5486ba79b9e854cc06",
      "placeholder": "​",
      "style": "IPY_MODEL_140ed60445594d958c44a6b0d9f004e7",
      "value": " 378M/378M [00:06&lt;00:00, 71.0MB/s]"
     }
    },
    "2111b65e928a430786e08f3de33915a6": {
     "model_module": "@jupyter-widgets/controls",
     "model_module_version": "1.5.0",
     "model_name": "DescriptionStyleModel",
     "state": {
      "_model_module": "@jupyter-widgets/controls",
      "_model_module_version": "1.5.0",
      "_model_name": "DescriptionStyleModel",
      "_view_count": null,
      "_view_module": "@jupyter-widgets/base",
      "_view_module_version": "1.2.0",
      "_view_name": "StyleView",
      "description_width": ""
     }
    },
    "22bebe07a7434cfcafc3cb482e1ab2ad": {
     "model_module": "@jupyter-widgets/base",
     "model_module_version": "1.2.0",
     "model_name": "LayoutModel",
     "state": {
      "_model_module": "@jupyter-widgets/base",
      "_model_module_version": "1.2.0",
      "_model_name": "LayoutModel",
      "_view_count": null,
      "_view_module": "@jupyter-widgets/base",
      "_view_module_version": "1.2.0",
      "_view_name": "LayoutView",
      "align_content": null,
      "align_items": null,
      "align_self": null,
      "border": null,
      "bottom": null,
      "display": null,
      "flex": null,
      "flex_flow": null,
      "grid_area": null,
      "grid_auto_columns": null,
      "grid_auto_flow": null,
      "grid_auto_rows": null,
      "grid_column": null,
      "grid_gap": null,
      "grid_row": null,
      "grid_template_areas": null,
      "grid_template_columns": null,
      "grid_template_rows": null,
      "height": null,
      "justify_content": null,
      "justify_items": null,
      "left": null,
      "margin": null,
      "max_height": null,
      "max_width": null,
      "min_height": null,
      "min_width": null,
      "object_fit": null,
      "object_position": null,
      "order": null,
      "overflow": null,
      "overflow_x": null,
      "overflow_y": null,
      "padding": null,
      "right": null,
      "top": null,
      "visibility": null,
      "width": null
     }
    },
    "23ee3e1998004d8dba048a73429d3093": {
     "model_module": "@jupyter-widgets/base",
     "model_module_version": "1.2.0",
     "model_name": "LayoutModel",
     "state": {
      "_model_module": "@jupyter-widgets/base",
      "_model_module_version": "1.2.0",
      "_model_name": "LayoutModel",
      "_view_count": null,
      "_view_module": "@jupyter-widgets/base",
      "_view_module_version": "1.2.0",
      "_view_name": "LayoutView",
      "align_content": null,
      "align_items": null,
      "align_self": null,
      "border": null,
      "bottom": null,
      "display": null,
      "flex": null,
      "flex_flow": null,
      "grid_area": null,
      "grid_auto_columns": null,
      "grid_auto_flow": null,
      "grid_auto_rows": null,
      "grid_column": null,
      "grid_gap": null,
      "grid_row": null,
      "grid_template_areas": null,
      "grid_template_columns": null,
      "grid_template_rows": null,
      "height": null,
      "justify_content": null,
      "justify_items": null,
      "left": null,
      "margin": null,
      "max_height": null,
      "max_width": null,
      "min_height": null,
      "min_width": null,
      "object_fit": null,
      "object_position": null,
      "order": null,
      "overflow": null,
      "overflow_x": null,
      "overflow_y": null,
      "padding": null,
      "right": null,
      "top": null,
      "visibility": null,
      "width": null
     }
    },
    "26a7d3afa0fb44e58fb00e447af47d24": {
     "model_module": "@jupyter-widgets/base",
     "model_module_version": "1.2.0",
     "model_name": "LayoutModel",
     "state": {
      "_model_module": "@jupyter-widgets/base",
      "_model_module_version": "1.2.0",
      "_model_name": "LayoutModel",
      "_view_count": null,
      "_view_module": "@jupyter-widgets/base",
      "_view_module_version": "1.2.0",
      "_view_name": "LayoutView",
      "align_content": null,
      "align_items": null,
      "align_self": null,
      "border": null,
      "bottom": null,
      "display": null,
      "flex": null,
      "flex_flow": null,
      "grid_area": null,
      "grid_auto_columns": null,
      "grid_auto_flow": null,
      "grid_auto_rows": null,
      "grid_column": null,
      "grid_gap": null,
      "grid_row": null,
      "grid_template_areas": null,
      "grid_template_columns": null,
      "grid_template_rows": null,
      "height": null,
      "justify_content": null,
      "justify_items": null,
      "left": null,
      "margin": null,
      "max_height": null,
      "max_width": null,
      "min_height": null,
      "min_width": null,
      "object_fit": null,
      "object_position": null,
      "order": null,
      "overflow": null,
      "overflow_x": null,
      "overflow_y": null,
      "padding": null,
      "right": null,
      "top": null,
      "visibility": null,
      "width": null
     }
    },
    "27eb07c6bede48529d447c7ad58a36ca": {
     "model_module": "@jupyter-widgets/controls",
     "model_module_version": "1.5.0",
     "model_name": "HTMLModel",
     "state": {
      "_dom_classes": [],
      "_model_module": "@jupyter-widgets/controls",
      "_model_module_version": "1.5.0",
      "_model_name": "HTMLModel",
      "_view_count": null,
      "_view_module": "@jupyter-widgets/controls",
      "_view_module_version": "1.5.0",
      "_view_name": "HTMLView",
      "description": "",
      "description_tooltip": null,
      "layout": "IPY_MODEL_3434e58a841c4498a108b6640cede0e5",
      "placeholder": "​",
      "style": "IPY_MODEL_377da267678d4a9eb8d18539ca70d2e2",
      "value": " 1.60k/1.60k [00:00&lt;00:00, 52.3kB/s]"
     }
    },
    "2de31979b18948e7bee475c2821a4946": {
     "model_module": "@jupyter-widgets/controls",
     "model_module_version": "1.5.0",
     "model_name": "HBoxModel",
     "state": {
      "_dom_classes": [],
      "_model_module": "@jupyter-widgets/controls",
      "_model_module_version": "1.5.0",
      "_model_name": "HBoxModel",
      "_view_count": null,
      "_view_module": "@jupyter-widgets/controls",
      "_view_module_version": "1.5.0",
      "_view_name": "HBoxView",
      "box_style": "",
      "children": [
       "IPY_MODEL_9b57ba3ecbdb4a5d90d271878ec6e892",
       "IPY_MODEL_11fc6e610df24ff0bb9d839601c415bf",
       "IPY_MODEL_27eb07c6bede48529d447c7ad58a36ca"
      ],
      "layout": "IPY_MODEL_a45e35ffeac54dc0ad374698b27135ba"
     }
    },
    "334f7f21d9cf4c8e80f2a29cc3a7148c": {
     "model_module": "@jupyter-widgets/controls",
     "model_module_version": "1.5.0",
     "model_name": "DescriptionStyleModel",
     "state": {
      "_model_module": "@jupyter-widgets/controls",
      "_model_module_version": "1.5.0",
      "_model_name": "DescriptionStyleModel",
      "_view_count": null,
      "_view_module": "@jupyter-widgets/base",
      "_view_module_version": "1.2.0",
      "_view_name": "StyleView",
      "description_width": ""
     }
    },
    "3434e58a841c4498a108b6640cede0e5": {
     "model_module": "@jupyter-widgets/base",
     "model_module_version": "1.2.0",
     "model_name": "LayoutModel",
     "state": {
      "_model_module": "@jupyter-widgets/base",
      "_model_module_version": "1.2.0",
      "_model_name": "LayoutModel",
      "_view_count": null,
      "_view_module": "@jupyter-widgets/base",
      "_view_module_version": "1.2.0",
      "_view_name": "LayoutView",
      "align_content": null,
      "align_items": null,
      "align_self": null,
      "border": null,
      "bottom": null,
      "display": null,
      "flex": null,
      "flex_flow": null,
      "grid_area": null,
      "grid_auto_columns": null,
      "grid_auto_flow": null,
      "grid_auto_rows": null,
      "grid_column": null,
      "grid_gap": null,
      "grid_row": null,
      "grid_template_areas": null,
      "grid_template_columns": null,
      "grid_template_rows": null,
      "height": null,
      "justify_content": null,
      "justify_items": null,
      "left": null,
      "margin": null,
      "max_height": null,
      "max_width": null,
      "min_height": null,
      "min_width": null,
      "object_fit": null,
      "object_position": null,
      "order": null,
      "overflow": null,
      "overflow_x": null,
      "overflow_y": null,
      "padding": null,
      "right": null,
      "top": null,
      "visibility": null,
      "width": null
     }
    },
    "377da267678d4a9eb8d18539ca70d2e2": {
     "model_module": "@jupyter-widgets/controls",
     "model_module_version": "1.5.0",
     "model_name": "DescriptionStyleModel",
     "state": {
      "_model_module": "@jupyter-widgets/controls",
      "_model_module_version": "1.5.0",
      "_model_name": "DescriptionStyleModel",
      "_view_count": null,
      "_view_module": "@jupyter-widgets/base",
      "_view_module_version": "1.2.0",
      "_view_name": "StyleView",
      "description_width": ""
     }
    },
    "387262c9d8554fd5adb7833f9d0e6281": {
     "model_module": "@jupyter-widgets/controls",
     "model_module_version": "1.5.0",
     "model_name": "ProgressStyleModel",
     "state": {
      "_model_module": "@jupyter-widgets/controls",
      "_model_module_version": "1.5.0",
      "_model_name": "ProgressStyleModel",
      "_view_count": null,
      "_view_module": "@jupyter-widgets/base",
      "_view_module_version": "1.2.0",
      "_view_name": "StyleView",
      "bar_color": null,
      "description_width": ""
     }
    },
    "40955f41db5f438fab19948899a67701": {
     "model_module": "@jupyter-widgets/controls",
     "model_module_version": "1.5.0",
     "model_name": "DescriptionStyleModel",
     "state": {
      "_model_module": "@jupyter-widgets/controls",
      "_model_module_version": "1.5.0",
      "_model_name": "DescriptionStyleModel",
      "_view_count": null,
      "_view_module": "@jupyter-widgets/base",
      "_view_module_version": "1.2.0",
      "_view_name": "StyleView",
      "description_width": ""
     }
    },
    "4164d72b8cc34c14851c4ad2df4c5fdf": {
     "model_module": "@jupyter-widgets/base",
     "model_module_version": "1.2.0",
     "model_name": "LayoutModel",
     "state": {
      "_model_module": "@jupyter-widgets/base",
      "_model_module_version": "1.2.0",
      "_model_name": "LayoutModel",
      "_view_count": null,
      "_view_module": "@jupyter-widgets/base",
      "_view_module_version": "1.2.0",
      "_view_name": "LayoutView",
      "align_content": null,
      "align_items": null,
      "align_self": null,
      "border": null,
      "bottom": null,
      "display": null,
      "flex": null,
      "flex_flow": null,
      "grid_area": null,
      "grid_auto_columns": null,
      "grid_auto_flow": null,
      "grid_auto_rows": null,
      "grid_column": null,
      "grid_gap": null,
      "grid_row": null,
      "grid_template_areas": null,
      "grid_template_columns": null,
      "grid_template_rows": null,
      "height": null,
      "justify_content": null,
      "justify_items": null,
      "left": null,
      "margin": null,
      "max_height": null,
      "max_width": null,
      "min_height": null,
      "min_width": null,
      "object_fit": null,
      "object_position": null,
      "order": null,
      "overflow": null,
      "overflow_x": null,
      "overflow_y": null,
      "padding": null,
      "right": null,
      "top": null,
      "visibility": null,
      "width": null
     }
    },
    "4f428cc54b7e40578848f60cbe3b5b75": {
     "model_module": "@jupyter-widgets/controls",
     "model_module_version": "1.5.0",
     "model_name": "DescriptionStyleModel",
     "state": {
      "_model_module": "@jupyter-widgets/controls",
      "_model_module_version": "1.5.0",
      "_model_name": "DescriptionStyleModel",
      "_view_count": null,
      "_view_module": "@jupyter-widgets/base",
      "_view_module_version": "1.2.0",
      "_view_name": "StyleView",
      "description_width": ""
     }
    },
    "58bec3569a1b48dd99334ebf62a20909": {
     "model_module": "@jupyter-widgets/base",
     "model_module_version": "1.2.0",
     "model_name": "LayoutModel",
     "state": {
      "_model_module": "@jupyter-widgets/base",
      "_model_module_version": "1.2.0",
      "_model_name": "LayoutModel",
      "_view_count": null,
      "_view_module": "@jupyter-widgets/base",
      "_view_module_version": "1.2.0",
      "_view_name": "LayoutView",
      "align_content": null,
      "align_items": null,
      "align_self": null,
      "border": null,
      "bottom": null,
      "display": null,
      "flex": null,
      "flex_flow": null,
      "grid_area": null,
      "grid_auto_columns": null,
      "grid_auto_flow": null,
      "grid_auto_rows": null,
      "grid_column": null,
      "grid_gap": null,
      "grid_row": null,
      "grid_template_areas": null,
      "grid_template_columns": null,
      "grid_template_rows": null,
      "height": null,
      "justify_content": null,
      "justify_items": null,
      "left": null,
      "margin": null,
      "max_height": null,
      "max_width": null,
      "min_height": null,
      "min_width": null,
      "object_fit": null,
      "object_position": null,
      "order": null,
      "overflow": null,
      "overflow_x": null,
      "overflow_y": null,
      "padding": null,
      "right": null,
      "top": null,
      "visibility": null,
      "width": null
     }
    },
    "58df6bacd959423da18f5dd66d245a39": {
     "model_module": "@jupyter-widgets/base",
     "model_module_version": "1.2.0",
     "model_name": "LayoutModel",
     "state": {
      "_model_module": "@jupyter-widgets/base",
      "_model_module_version": "1.2.0",
      "_model_name": "LayoutModel",
      "_view_count": null,
      "_view_module": "@jupyter-widgets/base",
      "_view_module_version": "1.2.0",
      "_view_name": "LayoutView",
      "align_content": null,
      "align_items": null,
      "align_self": null,
      "border": null,
      "bottom": null,
      "display": null,
      "flex": null,
      "flex_flow": null,
      "grid_area": null,
      "grid_auto_columns": null,
      "grid_auto_flow": null,
      "grid_auto_rows": null,
      "grid_column": null,
      "grid_gap": null,
      "grid_row": null,
      "grid_template_areas": null,
      "grid_template_columns": null,
      "grid_template_rows": null,
      "height": null,
      "justify_content": null,
      "justify_items": null,
      "left": null,
      "margin": null,
      "max_height": null,
      "max_width": null,
      "min_height": null,
      "min_width": null,
      "object_fit": null,
      "object_position": null,
      "order": null,
      "overflow": null,
      "overflow_x": null,
      "overflow_y": null,
      "padding": null,
      "right": null,
      "top": null,
      "visibility": null,
      "width": null
     }
    },
    "6c63eb5940ed45edacb9e3ca9b43864d": {
     "model_module": "@jupyter-widgets/controls",
     "model_module_version": "1.5.0",
     "model_name": "ProgressStyleModel",
     "state": {
      "_model_module": "@jupyter-widgets/controls",
      "_model_module_version": "1.5.0",
      "_model_name": "ProgressStyleModel",
      "_view_count": null,
      "_view_module": "@jupyter-widgets/base",
      "_view_module_version": "1.2.0",
      "_view_name": "StyleView",
      "bar_color": null,
      "description_width": ""
     }
    },
    "7327ef65a3c14edfb6ffec336acaf297": {
     "model_module": "@jupyter-widgets/base",
     "model_module_version": "1.2.0",
     "model_name": "LayoutModel",
     "state": {
      "_model_module": "@jupyter-widgets/base",
      "_model_module_version": "1.2.0",
      "_model_name": "LayoutModel",
      "_view_count": null,
      "_view_module": "@jupyter-widgets/base",
      "_view_module_version": "1.2.0",
      "_view_name": "LayoutView",
      "align_content": null,
      "align_items": null,
      "align_self": null,
      "border": null,
      "bottom": null,
      "display": null,
      "flex": null,
      "flex_flow": null,
      "grid_area": null,
      "grid_auto_columns": null,
      "grid_auto_flow": null,
      "grid_auto_rows": null,
      "grid_column": null,
      "grid_gap": null,
      "grid_row": null,
      "grid_template_areas": null,
      "grid_template_columns": null,
      "grid_template_rows": null,
      "height": null,
      "justify_content": null,
      "justify_items": null,
      "left": null,
      "margin": null,
      "max_height": null,
      "max_width": null,
      "min_height": null,
      "min_width": null,
      "object_fit": null,
      "object_position": null,
      "order": null,
      "overflow": null,
      "overflow_x": null,
      "overflow_y": null,
      "padding": null,
      "right": null,
      "top": null,
      "visibility": null,
      "width": null
     }
    },
    "7babb06f85ae4105bb6e473add9145e8": {
     "model_module": "@jupyter-widgets/controls",
     "model_module_version": "1.5.0",
     "model_name": "DescriptionStyleModel",
     "state": {
      "_model_module": "@jupyter-widgets/controls",
      "_model_module_version": "1.5.0",
      "_model_name": "DescriptionStyleModel",
      "_view_count": null,
      "_view_module": "@jupyter-widgets/base",
      "_view_module_version": "1.2.0",
      "_view_name": "StyleView",
      "description_width": ""
     }
    },
    "7fbceecab6a84d5486ba79b9e854cc06": {
     "model_module": "@jupyter-widgets/base",
     "model_module_version": "1.2.0",
     "model_name": "LayoutModel",
     "state": {
      "_model_module": "@jupyter-widgets/base",
      "_model_module_version": "1.2.0",
      "_model_name": "LayoutModel",
      "_view_count": null,
      "_view_module": "@jupyter-widgets/base",
      "_view_module_version": "1.2.0",
      "_view_name": "LayoutView",
      "align_content": null,
      "align_items": null,
      "align_self": null,
      "border": null,
      "bottom": null,
      "display": null,
      "flex": null,
      "flex_flow": null,
      "grid_area": null,
      "grid_auto_columns": null,
      "grid_auto_flow": null,
      "grid_auto_rows": null,
      "grid_column": null,
      "grid_gap": null,
      "grid_row": null,
      "grid_template_areas": null,
      "grid_template_columns": null,
      "grid_template_rows": null,
      "height": null,
      "justify_content": null,
      "justify_items": null,
      "left": null,
      "margin": null,
      "max_height": null,
      "max_width": null,
      "min_height": null,
      "min_width": null,
      "object_fit": null,
      "object_position": null,
      "order": null,
      "overflow": null,
      "overflow_x": null,
      "overflow_y": null,
      "padding": null,
      "right": null,
      "top": null,
      "visibility": null,
      "width": null
     }
    },
    "803fcc0af88b40bcaf8fa9c89767617c": {
     "model_module": "@jupyter-widgets/base",
     "model_module_version": "1.2.0",
     "model_name": "LayoutModel",
     "state": {
      "_model_module": "@jupyter-widgets/base",
      "_model_module_version": "1.2.0",
      "_model_name": "LayoutModel",
      "_view_count": null,
      "_view_module": "@jupyter-widgets/base",
      "_view_module_version": "1.2.0",
      "_view_name": "LayoutView",
      "align_content": null,
      "align_items": null,
      "align_self": null,
      "border": null,
      "bottom": null,
      "display": null,
      "flex": null,
      "flex_flow": null,
      "grid_area": null,
      "grid_auto_columns": null,
      "grid_auto_flow": null,
      "grid_auto_rows": null,
      "grid_column": null,
      "grid_gap": null,
      "grid_row": null,
      "grid_template_areas": null,
      "grid_template_columns": null,
      "grid_template_rows": null,
      "height": null,
      "justify_content": null,
      "justify_items": null,
      "left": null,
      "margin": null,
      "max_height": null,
      "max_width": null,
      "min_height": null,
      "min_width": null,
      "object_fit": null,
      "object_position": null,
      "order": null,
      "overflow": null,
      "overflow_x": null,
      "overflow_y": null,
      "padding": null,
      "right": null,
      "top": null,
      "visibility": null,
      "width": null
     }
    },
    "80e6ce0546194a5b8a55a25d2d773bd2": {
     "model_module": "@jupyter-widgets/controls",
     "model_module_version": "1.5.0",
     "model_name": "HBoxModel",
     "state": {
      "_dom_classes": [],
      "_model_module": "@jupyter-widgets/controls",
      "_model_module_version": "1.5.0",
      "_model_name": "HBoxModel",
      "_view_count": null,
      "_view_module": "@jupyter-widgets/controls",
      "_view_module_version": "1.5.0",
      "_view_name": "HBoxView",
      "box_style": "",
      "children": [
       "IPY_MODEL_94572b22a2714475bf4e053b4cdadf60",
       "IPY_MODEL_0b51f6bc26844f929535158ec323fb57",
       "IPY_MODEL_912bc476f46746af9ca43c32d30ae111"
      ],
      "layout": "IPY_MODEL_26a7d3afa0fb44e58fb00e447af47d24"
     }
    },
    "892d7a5f69f54ebe8754b405401c6b55": {
     "model_module": "@jupyter-widgets/base",
     "model_module_version": "1.2.0",
     "model_name": "LayoutModel",
     "state": {
      "_model_module": "@jupyter-widgets/base",
      "_model_module_version": "1.2.0",
      "_model_name": "LayoutModel",
      "_view_count": null,
      "_view_module": "@jupyter-widgets/base",
      "_view_module_version": "1.2.0",
      "_view_name": "LayoutView",
      "align_content": null,
      "align_items": null,
      "align_self": null,
      "border": null,
      "bottom": null,
      "display": null,
      "flex": null,
      "flex_flow": null,
      "grid_area": null,
      "grid_auto_columns": null,
      "grid_auto_flow": null,
      "grid_auto_rows": null,
      "grid_column": null,
      "grid_gap": null,
      "grid_row": null,
      "grid_template_areas": null,
      "grid_template_columns": null,
      "grid_template_rows": null,
      "height": null,
      "justify_content": null,
      "justify_items": null,
      "left": null,
      "margin": null,
      "max_height": null,
      "max_width": null,
      "min_height": null,
      "min_width": null,
      "object_fit": null,
      "object_position": null,
      "order": null,
      "overflow": null,
      "overflow_x": null,
      "overflow_y": null,
      "padding": null,
      "right": null,
      "top": null,
      "visibility": null,
      "width": null
     }
    },
    "8d9e5b0de08e4384923144996c4da489": {
     "model_module": "@jupyter-widgets/controls",
     "model_module_version": "1.5.0",
     "model_name": "ProgressStyleModel",
     "state": {
      "_model_module": "@jupyter-widgets/controls",
      "_model_module_version": "1.5.0",
      "_model_name": "ProgressStyleModel",
      "_view_count": null,
      "_view_module": "@jupyter-widgets/base",
      "_view_module_version": "1.2.0",
      "_view_name": "StyleView",
      "bar_color": null,
      "description_width": ""
     }
    },
    "8e482da8940e472686c44ebcaf261a94": {
     "model_module": "@jupyter-widgets/base",
     "model_module_version": "1.2.0",
     "model_name": "LayoutModel",
     "state": {
      "_model_module": "@jupyter-widgets/base",
      "_model_module_version": "1.2.0",
      "_model_name": "LayoutModel",
      "_view_count": null,
      "_view_module": "@jupyter-widgets/base",
      "_view_module_version": "1.2.0",
      "_view_name": "LayoutView",
      "align_content": null,
      "align_items": null,
      "align_self": null,
      "border": null,
      "bottom": null,
      "display": null,
      "flex": null,
      "flex_flow": null,
      "grid_area": null,
      "grid_auto_columns": null,
      "grid_auto_flow": null,
      "grid_auto_rows": null,
      "grid_column": null,
      "grid_gap": null,
      "grid_row": null,
      "grid_template_areas": null,
      "grid_template_columns": null,
      "grid_template_rows": null,
      "height": null,
      "justify_content": null,
      "justify_items": null,
      "left": null,
      "margin": null,
      "max_height": null,
      "max_width": null,
      "min_height": null,
      "min_width": null,
      "object_fit": null,
      "object_position": null,
      "order": null,
      "overflow": null,
      "overflow_x": null,
      "overflow_y": null,
      "padding": null,
      "right": null,
      "top": null,
      "visibility": null,
      "width": null
     }
    },
    "8f0550523d564924a2e156c28f19fde5": {
     "model_module": "@jupyter-widgets/base",
     "model_module_version": "1.2.0",
     "model_name": "LayoutModel",
     "state": {
      "_model_module": "@jupyter-widgets/base",
      "_model_module_version": "1.2.0",
      "_model_name": "LayoutModel",
      "_view_count": null,
      "_view_module": "@jupyter-widgets/base",
      "_view_module_version": "1.2.0",
      "_view_name": "LayoutView",
      "align_content": null,
      "align_items": null,
      "align_self": null,
      "border": null,
      "bottom": null,
      "display": null,
      "flex": null,
      "flex_flow": null,
      "grid_area": null,
      "grid_auto_columns": null,
      "grid_auto_flow": null,
      "grid_auto_rows": null,
      "grid_column": null,
      "grid_gap": null,
      "grid_row": null,
      "grid_template_areas": null,
      "grid_template_columns": null,
      "grid_template_rows": null,
      "height": null,
      "justify_content": null,
      "justify_items": null,
      "left": null,
      "margin": null,
      "max_height": null,
      "max_width": null,
      "min_height": null,
      "min_width": null,
      "object_fit": null,
      "object_position": null,
      "order": null,
      "overflow": null,
      "overflow_x": null,
      "overflow_y": null,
      "padding": null,
      "right": null,
      "top": null,
      "visibility": null,
      "width": null
     }
    },
    "9109c4ee4ea2444d8ed733456fe9f8c1": {
     "model_module": "@jupyter-widgets/base",
     "model_module_version": "1.2.0",
     "model_name": "LayoutModel",
     "state": {
      "_model_module": "@jupyter-widgets/base",
      "_model_module_version": "1.2.0",
      "_model_name": "LayoutModel",
      "_view_count": null,
      "_view_module": "@jupyter-widgets/base",
      "_view_module_version": "1.2.0",
      "_view_name": "LayoutView",
      "align_content": null,
      "align_items": null,
      "align_self": null,
      "border": null,
      "bottom": null,
      "display": null,
      "flex": null,
      "flex_flow": null,
      "grid_area": null,
      "grid_auto_columns": null,
      "grid_auto_flow": null,
      "grid_auto_rows": null,
      "grid_column": null,
      "grid_gap": null,
      "grid_row": null,
      "grid_template_areas": null,
      "grid_template_columns": null,
      "grid_template_rows": null,
      "height": null,
      "justify_content": null,
      "justify_items": null,
      "left": null,
      "margin": null,
      "max_height": null,
      "max_width": null,
      "min_height": null,
      "min_width": null,
      "object_fit": null,
      "object_position": null,
      "order": null,
      "overflow": null,
      "overflow_x": null,
      "overflow_y": null,
      "padding": null,
      "right": null,
      "top": null,
      "visibility": null,
      "width": null
     }
    },
    "912bc476f46746af9ca43c32d30ae111": {
     "model_module": "@jupyter-widgets/controls",
     "model_module_version": "1.5.0",
     "model_name": "HTMLModel",
     "state": {
      "_dom_classes": [],
      "_model_module": "@jupyter-widgets/controls",
      "_model_module_version": "1.5.0",
      "_model_name": "HTMLModel",
      "_view_count": null,
      "_view_module": "@jupyter-widgets/controls",
      "_view_module_version": "1.5.0",
      "_view_name": "HTMLView",
      "description": "",
      "description_tooltip": null,
      "layout": "IPY_MODEL_bd81fdd38b3e4e69917a39a94e019e42",
      "placeholder": "​",
      "style": "IPY_MODEL_2111b65e928a430786e08f3de33915a6",
      "value": " 291/291 [00:00&lt;00:00, 6.39kB/s]"
     }
    },
    "94572b22a2714475bf4e053b4cdadf60": {
     "model_module": "@jupyter-widgets/controls",
     "model_module_version": "1.5.0",
     "model_name": "HTMLModel",
     "state": {
      "_dom_classes": [],
      "_model_module": "@jupyter-widgets/controls",
      "_model_module_version": "1.5.0",
      "_model_name": "HTMLModel",
      "_view_count": null,
      "_view_module": "@jupyter-widgets/controls",
      "_view_module_version": "1.5.0",
      "_view_name": "HTMLView",
      "description": "",
      "description_tooltip": null,
      "layout": "IPY_MODEL_c4207622a5604dc78269cfbad0214c54",
      "placeholder": "​",
      "style": "IPY_MODEL_334f7f21d9cf4c8e80f2a29cc3a7148c",
      "value": "vocab.json: 100%"
     }
    },
    "9ab682609fef41ae8ffec799f920579f": {
     "model_module": "@jupyter-widgets/controls",
     "model_module_version": "1.5.0",
     "model_name": "HBoxModel",
     "state": {
      "_dom_classes": [],
      "_model_module": "@jupyter-widgets/controls",
      "_model_module_version": "1.5.0",
      "_model_name": "HBoxModel",
      "_view_count": null,
      "_view_module": "@jupyter-widgets/controls",
      "_view_module_version": "1.5.0",
      "_view_name": "HBoxView",
      "box_style": "",
      "children": [
       "IPY_MODEL_a2ed27ca52954ea4b19a9da2a55f0a6f",
       "IPY_MODEL_006af32c67cf41588b569227daf1af51",
       "IPY_MODEL_dbb44d0bba1a4aaa8a479070fa8464a5"
      ],
      "layout": "IPY_MODEL_22bebe07a7434cfcafc3cb482e1ab2ad"
     }
    },
    "9b57ba3ecbdb4a5d90d271878ec6e892": {
     "model_module": "@jupyter-widgets/controls",
     "model_module_version": "1.5.0",
     "model_name": "HTMLModel",
     "state": {
      "_dom_classes": [],
      "_model_module": "@jupyter-widgets/controls",
      "_model_module_version": "1.5.0",
      "_model_name": "HTMLModel",
      "_view_count": null,
      "_view_module": "@jupyter-widgets/controls",
      "_view_module_version": "1.5.0",
      "_view_name": "HTMLView",
      "description": "",
      "description_tooltip": null,
      "layout": "IPY_MODEL_4164d72b8cc34c14851c4ad2df4c5fdf",
      "placeholder": "​",
      "style": "IPY_MODEL_0171c7f253db493d907258845b668ff2",
      "value": "config.json: 100%"
     }
    },
    "9ba8a0e4f6424f3eabd89d83f068b312": {
     "model_module": "@jupyter-widgets/base",
     "model_module_version": "1.2.0",
     "model_name": "LayoutModel",
     "state": {
      "_model_module": "@jupyter-widgets/base",
      "_model_module_version": "1.2.0",
      "_model_name": "LayoutModel",
      "_view_count": null,
      "_view_module": "@jupyter-widgets/base",
      "_view_module_version": "1.2.0",
      "_view_name": "LayoutView",
      "align_content": null,
      "align_items": null,
      "align_self": null,
      "border": null,
      "bottom": null,
      "display": null,
      "flex": null,
      "flex_flow": null,
      "grid_area": null,
      "grid_auto_columns": null,
      "grid_auto_flow": null,
      "grid_auto_rows": null,
      "grid_column": null,
      "grid_gap": null,
      "grid_row": null,
      "grid_template_areas": null,
      "grid_template_columns": null,
      "grid_template_rows": null,
      "height": null,
      "justify_content": null,
      "justify_items": null,
      "left": null,
      "margin": null,
      "max_height": null,
      "max_width": null,
      "min_height": null,
      "min_width": null,
      "object_fit": null,
      "object_position": null,
      "order": null,
      "overflow": null,
      "overflow_x": null,
      "overflow_y": null,
      "padding": null,
      "right": null,
      "top": null,
      "visibility": null,
      "width": null
     }
    },
    "9ca397d9ac9849aabc0972d16083be29": {
     "model_module": "@jupyter-widgets/base",
     "model_module_version": "1.2.0",
     "model_name": "LayoutModel",
     "state": {
      "_model_module": "@jupyter-widgets/base",
      "_model_module_version": "1.2.0",
      "_model_name": "LayoutModel",
      "_view_count": null,
      "_view_module": "@jupyter-widgets/base",
      "_view_module_version": "1.2.0",
      "_view_name": "LayoutView",
      "align_content": null,
      "align_items": null,
      "align_self": null,
      "border": null,
      "bottom": null,
      "display": null,
      "flex": null,
      "flex_flow": null,
      "grid_area": null,
      "grid_auto_columns": null,
      "grid_auto_flow": null,
      "grid_auto_rows": null,
      "grid_column": null,
      "grid_gap": null,
      "grid_row": null,
      "grid_template_areas": null,
      "grid_template_columns": null,
      "grid_template_rows": null,
      "height": null,
      "justify_content": null,
      "justify_items": null,
      "left": null,
      "margin": null,
      "max_height": null,
      "max_width": null,
      "min_height": null,
      "min_width": null,
      "object_fit": null,
      "object_position": null,
      "order": null,
      "overflow": null,
      "overflow_x": null,
      "overflow_y": null,
      "padding": null,
      "right": null,
      "top": null,
      "visibility": null,
      "width": null
     }
    },
    "9dce5cbcfce444198656ab33c2441637": {
     "model_module": "@jupyter-widgets/controls",
     "model_module_version": "1.5.0",
     "model_name": "DescriptionStyleModel",
     "state": {
      "_model_module": "@jupyter-widgets/controls",
      "_model_module_version": "1.5.0",
      "_model_name": "DescriptionStyleModel",
      "_view_count": null,
      "_view_module": "@jupyter-widgets/base",
      "_view_module_version": "1.2.0",
      "_view_name": "StyleView",
      "description_width": ""
     }
    },
    "a2ed27ca52954ea4b19a9da2a55f0a6f": {
     "model_module": "@jupyter-widgets/controls",
     "model_module_version": "1.5.0",
     "model_name": "HTMLModel",
     "state": {
      "_dom_classes": [],
      "_model_module": "@jupyter-widgets/controls",
      "_model_module_version": "1.5.0",
      "_model_name": "HTMLModel",
      "_view_count": null,
      "_view_module": "@jupyter-widgets/controls",
      "_view_module_version": "1.5.0",
      "_view_name": "HTMLView",
      "description": "",
      "description_tooltip": null,
      "layout": "IPY_MODEL_892d7a5f69f54ebe8754b405401c6b55",
      "placeholder": "​",
      "style": "IPY_MODEL_7babb06f85ae4105bb6e473add9145e8",
      "value": "special_tokens_map.json: 100%"
     }
    },
    "a45e35ffeac54dc0ad374698b27135ba": {
     "model_module": "@jupyter-widgets/base",
     "model_module_version": "1.2.0",
     "model_name": "LayoutModel",
     "state": {
      "_model_module": "@jupyter-widgets/base",
      "_model_module_version": "1.2.0",
      "_model_name": "LayoutModel",
      "_view_count": null,
      "_view_module": "@jupyter-widgets/base",
      "_view_module_version": "1.2.0",
      "_view_name": "LayoutView",
      "align_content": null,
      "align_items": null,
      "align_self": null,
      "border": null,
      "bottom": null,
      "display": null,
      "flex": null,
      "flex_flow": null,
      "grid_area": null,
      "grid_auto_columns": null,
      "grid_auto_flow": null,
      "grid_auto_rows": null,
      "grid_column": null,
      "grid_gap": null,
      "grid_row": null,
      "grid_template_areas": null,
      "grid_template_columns": null,
      "grid_template_rows": null,
      "height": null,
      "justify_content": null,
      "justify_items": null,
      "left": null,
      "margin": null,
      "max_height": null,
      "max_width": null,
      "min_height": null,
      "min_width": null,
      "object_fit": null,
      "object_position": null,
      "order": null,
      "overflow": null,
      "overflow_x": null,
      "overflow_y": null,
      "padding": null,
      "right": null,
      "top": null,
      "visibility": null,
      "width": null
     }
    },
    "aa5e9a9b23e440af883e15e23f6361a7": {
     "model_module": "@jupyter-widgets/controls",
     "model_module_version": "1.5.0",
     "model_name": "ProgressStyleModel",
     "state": {
      "_model_module": "@jupyter-widgets/controls",
      "_model_module_version": "1.5.0",
      "_model_name": "ProgressStyleModel",
      "_view_count": null,
      "_view_module": "@jupyter-widgets/base",
      "_view_module_version": "1.2.0",
      "_view_name": "StyleView",
      "bar_color": null,
      "description_width": ""
     }
    },
    "b7534f47de3046009fee68cea6daebcb": {
     "model_module": "@jupyter-widgets/controls",
     "model_module_version": "1.5.0",
     "model_name": "HBoxModel",
     "state": {
      "_dom_classes": [],
      "_model_module": "@jupyter-widgets/controls",
      "_model_module_version": "1.5.0",
      "_model_name": "HBoxModel",
      "_view_count": null,
      "_view_module": "@jupyter-widgets/controls",
      "_view_module_version": "1.5.0",
      "_view_name": "HBoxView",
      "box_style": "",
      "children": [
       "IPY_MODEL_15ac51530737489ba0d8e55da04c4d4b",
       "IPY_MODEL_04cc5d9390384b2da994e9820e1a2c70",
       "IPY_MODEL_f0119ba99e914dfbaf6fb35b77fb1920"
      ],
      "layout": "IPY_MODEL_9109c4ee4ea2444d8ed733456fe9f8c1"
     }
    },
    "bd81fdd38b3e4e69917a39a94e019e42": {
     "model_module": "@jupyter-widgets/base",
     "model_module_version": "1.2.0",
     "model_name": "LayoutModel",
     "state": {
      "_model_module": "@jupyter-widgets/base",
      "_model_module_version": "1.2.0",
      "_model_name": "LayoutModel",
      "_view_count": null,
      "_view_module": "@jupyter-widgets/base",
      "_view_module_version": "1.2.0",
      "_view_name": "LayoutView",
      "align_content": null,
      "align_items": null,
      "align_self": null,
      "border": null,
      "bottom": null,
      "display": null,
      "flex": null,
      "flex_flow": null,
      "grid_area": null,
      "grid_auto_columns": null,
      "grid_auto_flow": null,
      "grid_auto_rows": null,
      "grid_column": null,
      "grid_gap": null,
      "grid_row": null,
      "grid_template_areas": null,
      "grid_template_columns": null,
      "grid_template_rows": null,
      "height": null,
      "justify_content": null,
      "justify_items": null,
      "left": null,
      "margin": null,
      "max_height": null,
      "max_width": null,
      "min_height": null,
      "min_width": null,
      "object_fit": null,
      "object_position": null,
      "order": null,
      "overflow": null,
      "overflow_x": null,
      "overflow_y": null,
      "padding": null,
      "right": null,
      "top": null,
      "visibility": null,
      "width": null
     }
    },
    "c4207622a5604dc78269cfbad0214c54": {
     "model_module": "@jupyter-widgets/base",
     "model_module_version": "1.2.0",
     "model_name": "LayoutModel",
     "state": {
      "_model_module": "@jupyter-widgets/base",
      "_model_module_version": "1.2.0",
      "_model_name": "LayoutModel",
      "_view_count": null,
      "_view_module": "@jupyter-widgets/base",
      "_view_module_version": "1.2.0",
      "_view_name": "LayoutView",
      "align_content": null,
      "align_items": null,
      "align_self": null,
      "border": null,
      "bottom": null,
      "display": null,
      "flex": null,
      "flex_flow": null,
      "grid_area": null,
      "grid_auto_columns": null,
      "grid_auto_flow": null,
      "grid_auto_rows": null,
      "grid_column": null,
      "grid_gap": null,
      "grid_row": null,
      "grid_template_areas": null,
      "grid_template_columns": null,
      "grid_template_rows": null,
      "height": null,
      "justify_content": null,
      "justify_items": null,
      "left": null,
      "margin": null,
      "max_height": null,
      "max_width": null,
      "min_height": null,
      "min_width": null,
      "object_fit": null,
      "object_position": null,
      "order": null,
      "overflow": null,
      "overflow_x": null,
      "overflow_y": null,
      "padding": null,
      "right": null,
      "top": null,
      "visibility": null,
      "width": null
     }
    },
    "dbb44d0bba1a4aaa8a479070fa8464a5": {
     "model_module": "@jupyter-widgets/controls",
     "model_module_version": "1.5.0",
     "model_name": "HTMLModel",
     "state": {
      "_dom_classes": [],
      "_model_module": "@jupyter-widgets/controls",
      "_model_module_version": "1.5.0",
      "_model_name": "HTMLModel",
      "_view_count": null,
      "_view_module": "@jupyter-widgets/controls",
      "_view_module_version": "1.5.0",
      "_view_name": "HTMLView",
      "description": "",
      "description_tooltip": null,
      "layout": "IPY_MODEL_23ee3e1998004d8dba048a73429d3093",
      "placeholder": "​",
      "style": "IPY_MODEL_9dce5cbcfce444198656ab33c2441637",
      "value": " 85.0/85.0 [00:00&lt;00:00, 820B/s]"
     }
    },
    "e6f608b029fa4405aab25c93d888d90e": {
     "model_module": "@jupyter-widgets/controls",
     "model_module_version": "1.5.0",
     "model_name": "HBoxModel",
     "state": {
      "_dom_classes": [],
      "_model_module": "@jupyter-widgets/controls",
      "_model_module_version": "1.5.0",
      "_model_name": "HBoxModel",
      "_view_count": null,
      "_view_module": "@jupyter-widgets/controls",
      "_view_module_version": "1.5.0",
      "_view_name": "HBoxView",
      "box_style": "",
      "children": [
       "IPY_MODEL_fe40e9ba5de242999ce9caf76906ae31",
       "IPY_MODEL_ec32ed16be7c441b933feaf54a5fbbfd",
       "IPY_MODEL_1b5707a0a2ef485086badc9c360c1790"
      ],
      "layout": "IPY_MODEL_8e482da8940e472686c44ebcaf261a94"
     }
    },
    "ec32ed16be7c441b933feaf54a5fbbfd": {
     "model_module": "@jupyter-widgets/controls",
     "model_module_version": "1.5.0",
     "model_name": "FloatProgressModel",
     "state": {
      "_dom_classes": [],
      "_model_module": "@jupyter-widgets/controls",
      "_model_module_version": "1.5.0",
      "_model_name": "FloatProgressModel",
      "_view_count": null,
      "_view_module": "@jupyter-widgets/controls",
      "_view_module_version": "1.5.0",
      "_view_name": "ProgressView",
      "bar_style": "success",
      "description": "",
      "description_tooltip": null,
      "layout": "IPY_MODEL_8f0550523d564924a2e156c28f19fde5",
      "max": 377607901,
      "min": 0,
      "orientation": "horizontal",
      "style": "IPY_MODEL_387262c9d8554fd5adb7833f9d0e6281",
      "value": 377607901
     }
    },
    "f0119ba99e914dfbaf6fb35b77fb1920": {
     "model_module": "@jupyter-widgets/controls",
     "model_module_version": "1.5.0",
     "model_name": "HTMLModel",
     "state": {
      "_dom_classes": [],
      "_model_module": "@jupyter-widgets/controls",
      "_model_module_version": "1.5.0",
      "_model_name": "HTMLModel",
      "_view_count": null,
      "_view_module": "@jupyter-widgets/controls",
      "_view_module_version": "1.5.0",
      "_view_name": "HTMLView",
      "description": "",
      "description_tooltip": null,
      "layout": "IPY_MODEL_803fcc0af88b40bcaf8fa9c89767617c",
      "placeholder": "​",
      "style": "IPY_MODEL_40955f41db5f438fab19948899a67701",
      "value": " 163/163 [00:00&lt;00:00, 3.49kB/s]"
     }
    },
    "f22d624d37684343ab8dcda319f76940": {
     "model_module": "@jupyter-widgets/controls",
     "model_module_version": "1.5.0",
     "model_name": "ProgressStyleModel",
     "state": {
      "_model_module": "@jupyter-widgets/controls",
      "_model_module_version": "1.5.0",
      "_model_name": "ProgressStyleModel",
      "_view_count": null,
      "_view_module": "@jupyter-widgets/base",
      "_view_module_version": "1.2.0",
      "_view_name": "StyleView",
      "bar_color": null,
      "description_width": ""
     }
    },
    "fb112eae63a346a08c3c22c50ed1d282": {
     "model_module": "@jupyter-widgets/base",
     "model_module_version": "1.2.0",
     "model_name": "LayoutModel",
     "state": {
      "_model_module": "@jupyter-widgets/base",
      "_model_module_version": "1.2.0",
      "_model_name": "LayoutModel",
      "_view_count": null,
      "_view_module": "@jupyter-widgets/base",
      "_view_module_version": "1.2.0",
      "_view_name": "LayoutView",
      "align_content": null,
      "align_items": null,
      "align_self": null,
      "border": null,
      "bottom": null,
      "display": null,
      "flex": null,
      "flex_flow": null,
      "grid_area": null,
      "grid_auto_columns": null,
      "grid_auto_flow": null,
      "grid_auto_rows": null,
      "grid_column": null,
      "grid_gap": null,
      "grid_row": null,
      "grid_template_areas": null,
      "grid_template_columns": null,
      "grid_template_rows": null,
      "height": null,
      "justify_content": null,
      "justify_items": null,
      "left": null,
      "margin": null,
      "max_height": null,
      "max_width": null,
      "min_height": null,
      "min_width": null,
      "object_fit": null,
      "object_position": null,
      "order": null,
      "overflow": null,
      "overflow_x": null,
      "overflow_y": null,
      "padding": null,
      "right": null,
      "top": null,
      "visibility": null,
      "width": null
     }
    },
    "fe40e9ba5de242999ce9caf76906ae31": {
     "model_module": "@jupyter-widgets/controls",
     "model_module_version": "1.5.0",
     "model_name": "HTMLModel",
     "state": {
      "_dom_classes": [],
      "_model_module": "@jupyter-widgets/controls",
      "_model_module_version": "1.5.0",
      "_model_name": "HTMLModel",
      "_view_count": null,
      "_view_module": "@jupyter-widgets/controls",
      "_view_module_version": "1.5.0",
      "_view_name": "HTMLView",
      "description": "",
      "description_tooltip": null,
      "layout": "IPY_MODEL_9ca397d9ac9849aabc0972d16083be29",
      "placeholder": "​",
      "style": "IPY_MODEL_16b9ae95f1de42d4a2447fc3eb8b5bf6",
      "value": "model.safetensors: 100%"
     }
    }
   }
  }
 },
 "nbformat": 4,
 "nbformat_minor": 1
}
